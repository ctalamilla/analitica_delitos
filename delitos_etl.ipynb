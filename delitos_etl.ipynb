{
 "cells": [
  {
   "cell_type": "code",
   "execution_count": 3,
   "metadata": {},
   "outputs": [],
   "source": [
    "link_2016 = \"https://cdn.buenosaires.gob.ar/datosabiertos/datasets/mapa-del-delito/delitos_2016.csv\"\n",
    "link_2017 = \"https://cdn.buenosaires.gob.ar/datosabiertos/datasets/mapa-del-delito/delitos_2017.csv\"\n",
    "link_2018 = \"https://cdn.buenosaires.gob.ar/datosabiertos/datasets/mapa-del-delito/delitos_2018.csv\"\n",
    "link_2019 = \"https://cdn.buenosaires.gob.ar/datosabiertos/datasets/ministerio-de-justicia-y-seguridad/delitos/delitos_2019.csv\"\n",
    "link_2020 = \"https://cdn.buenosaires.gob.ar/datosabiertos/datasets/mapa-del-delito/delitos_2020.csv\"\n",
    "link_2021 = \"https://cdn.buenosaires.gob.ar/datosabiertos/datasets/ministerio-de-justicia-y-seguridad/delitos/delitos_2021.csv\""
   ]
  },
  {
   "cell_type": "code",
   "execution_count": null,
   "metadata": {},
   "outputs": [],
   "source": []
  },
  {
   "cell_type": "code",
   "execution_count": 5,
   "metadata": {},
   "outputs": [],
   "source": [
    "import pandas as pd"
   ]
  },
  {
   "cell_type": "code",
   "execution_count": null,
   "metadata": {},
   "outputs": [],
   "source": [
    "pd.read_csv(link_2019, sep=',', low_memory=False).loc[:,['fecha', 'franja_horaria', 'tipo_delito', 'barrio', 'comuna', 'lat', 'long']].to_csv('./data/delitos_2019.csv')\n",
    "pd.read_csv(link_2018, sep=',', low_memory=False).loc[:,['fecha', 'franja_horaria', 'tipo_delito', 'barrio', 'comuna', 'lat', 'long']].to_csv('./data/delitos_2018.csv')\n",
    "pd.read_csv(link_2017, sep=',', low_memory=False).loc[:,['fecha', 'franja_horaria', 'tipo_delito', 'barrio', 'comuna', 'lat', 'long']].to_csv('./data/delitos_2017.csv')\n",
    "pd.read_csv(link_2016, sep=',', low_memory=False).loc[:,['fecha', 'franja_horaria', 'tipo_delito', 'barrio', 'comuna', 'lat', 'long']].to_csv('./data/delitos_2016.csv')"
   ]
  },
  {
   "cell_type": "code",
   "execution_count": 15,
   "metadata": {},
   "outputs": [],
   "source": [
    "pd.read_csv(link_2021, sep=';').loc[:,['fecha', 'franja', 'tipo', 'barrio', 'comuna', 'latitud', 'longitud']].to_csv('/data/delitos_2021.csv')\n",
    "pd.read_csv(link_2020, sep=',', ).loc[:,['fecha', 'franja', 'tipo', 'barrio', 'comuna', 'latitud', 'longitud']].to_csv('./data/delitos_2020.csv')"
   ]
  },
  {
   "cell_type": "code",
   "execution_count": 39,
   "metadata": {},
   "outputs": [
    {
     "data": {
      "text/plain": [
       "['https://cdn.buenosaires.gob.ar/datosabiertos/datasets/mapa-del-delito/delitos_2016.csv',\n",
       " 'https://cdn.buenosaires.gob.ar/datosabiertos/datasets/mapa-del-delito/delitos_2017.csv',\n",
       " 'https://cdn.buenosaires.gob.ar/datosabiertos/datasets/mapa-del-delito/delitos_2018.csv',\n",
       " 'https://cdn.buenosaires.gob.ar/datosabiertos/datasets/ministerio-de-justicia-y-seguridad/delitos/delitos_2019.csv']"
      ]
     },
     "execution_count": 39,
     "metadata": {},
     "output_type": "execute_result"
    }
   ],
   "source": [
    "links =[link_2016, link_2017, link_2018,link_2019]\n",
    "links"
   ]
  },
  {
   "cell_type": "code",
   "execution_count": 36,
   "metadata": {},
   "outputs": [
    {
     "data": {
      "text/plain": [
       "'2021'"
      ]
     },
     "execution_count": 36,
     "metadata": {},
     "output_type": "execute_result"
    }
   ],
   "source": [
    "\"link_2021\".split(\"_\")[1]"
   ]
  },
  {
   "cell_type": "code",
   "execution_count": 62,
   "metadata": {},
   "outputs": [],
   "source": [
    "def extract_load(links):\n",
    "    dfs = []\n",
    "    for link in links:\n",
    "        anio = link.split(\"_\")[1]\n",
    "        #print(f\"procesando datos de {anio}\")\n",
    "        data = pd.read_csv(link, sep=',', low_memory=False).loc[:,['fecha', 'franja_horaria', 'tipo_delito', 'barrio', 'comuna', 'lat', 'long']]\n",
    "        data[\"fecha\"] = pd.to_datetime(data[\"fecha\"])\n",
    "        data.to_csv(f'./datalake/delitos_{anio}')\n",
    "        dfs.append(data)\n",
    "       # print(dfs)\n",
    "    consolided = pd.concat(dfs, ignore_index=True)\n",
    "    consolided.to_csv(f'./datalake/delitos_consolidado')\n",
    "    return consolided"
   ]
  },
  {
   "cell_type": "code",
   "execution_count": 63,
   "metadata": {},
   "outputs": [
    {
     "name": "stderr",
     "output_type": "stream",
     "text": [
      "C:\\Users\\Cristian Salinas\\AppData\\Local\\Temp\\ipykernel_15588\\1434259782.py:7: UserWarning: Could not infer format, so each element will be parsed individually, falling back to `dateutil`. To ensure parsing is consistent and as-expected, please specify a format.\n",
      "  data[\"fecha\"] = pd.to_datetime(data[\"fecha\"])\n"
     ]
    },
    {
     "data": {
      "text/html": [
       "<div>\n",
       "<style scoped>\n",
       "    .dataframe tbody tr th:only-of-type {\n",
       "        vertical-align: middle;\n",
       "    }\n",
       "\n",
       "    .dataframe tbody tr th {\n",
       "        vertical-align: top;\n",
       "    }\n",
       "\n",
       "    .dataframe thead th {\n",
       "        text-align: right;\n",
       "    }\n",
       "</style>\n",
       "<table border=\"1\" class=\"dataframe\">\n",
       "  <thead>\n",
       "    <tr style=\"text-align: right;\">\n",
       "      <th></th>\n",
       "      <th>fecha</th>\n",
       "      <th>franja_horaria</th>\n",
       "      <th>tipo_delito</th>\n",
       "      <th>barrio</th>\n",
       "      <th>comuna</th>\n",
       "      <th>lat</th>\n",
       "      <th>long</th>\n",
       "    </tr>\n",
       "  </thead>\n",
       "  <tbody>\n",
       "    <tr>\n",
       "      <th>0</th>\n",
       "      <td>2016-01-01</td>\n",
       "      <td>13</td>\n",
       "      <td>Robo (con violencia)</td>\n",
       "      <td>Parque Avellaneda</td>\n",
       "      <td>9.0</td>\n",
       "      <td>-34.648730</td>\n",
       "      <td>-58.468536</td>\n",
       "    </tr>\n",
       "    <tr>\n",
       "      <th>1</th>\n",
       "      <td>2016-01-01</td>\n",
       "      <td>22</td>\n",
       "      <td>Robo (con violencia)</td>\n",
       "      <td>Palermo</td>\n",
       "      <td>14.0</td>\n",
       "      <td>-34.576925</td>\n",
       "      <td>-58.407400</td>\n",
       "    </tr>\n",
       "    <tr>\n",
       "      <th>2</th>\n",
       "      <td>2016-01-01</td>\n",
       "      <td>1</td>\n",
       "      <td>Lesiones</td>\n",
       "      <td>Parque Patricios</td>\n",
       "      <td>4.0</td>\n",
       "      <td>-34.645197</td>\n",
       "      <td>-58.401099</td>\n",
       "    </tr>\n",
       "    <tr>\n",
       "      <th>3</th>\n",
       "      <td>2016-01-01</td>\n",
       "      <td>19</td>\n",
       "      <td>Hurto (sin violencia)</td>\n",
       "      <td>Parque Avellaneda</td>\n",
       "      <td>9.0</td>\n",
       "      <td>-34.655760</td>\n",
       "      <td>-58.478681</td>\n",
       "    </tr>\n",
       "    <tr>\n",
       "      <th>4</th>\n",
       "      <td>2016-01-01</td>\n",
       "      <td>4</td>\n",
       "      <td>Robo (con violencia)</td>\n",
       "      <td>Caballito</td>\n",
       "      <td>6.0</td>\n",
       "      <td>-34.624128</td>\n",
       "      <td>-58.436826</td>\n",
       "    </tr>\n",
       "    <tr>\n",
       "      <th>...</th>\n",
       "      <td>...</td>\n",
       "      <td>...</td>\n",
       "      <td>...</td>\n",
       "      <td>...</td>\n",
       "      <td>...</td>\n",
       "      <td>...</td>\n",
       "      <td>...</td>\n",
       "    </tr>\n",
       "    <tr>\n",
       "      <th>493359</th>\n",
       "      <td>2019-09-13</td>\n",
       "      <td>21</td>\n",
       "      <td>Robo (con violencia)</td>\n",
       "      <td>Vélez Sársfield</td>\n",
       "      <td>10.0</td>\n",
       "      <td>-34.631202</td>\n",
       "      <td>-58.500760</td>\n",
       "    </tr>\n",
       "    <tr>\n",
       "      <th>493360</th>\n",
       "      <td>2019-09-13</td>\n",
       "      <td>20</td>\n",
       "      <td>Robo (con violencia)</td>\n",
       "      <td>Vélez Sársfield</td>\n",
       "      <td>10.0</td>\n",
       "      <td>-34.624261</td>\n",
       "      <td>-58.495508</td>\n",
       "    </tr>\n",
       "    <tr>\n",
       "      <th>493361</th>\n",
       "      <td>2019-09-13</td>\n",
       "      <td>18</td>\n",
       "      <td>Robo (con violencia)</td>\n",
       "      <td>Almagro</td>\n",
       "      <td>5.0</td>\n",
       "      <td>-34.611807</td>\n",
       "      <td>-58.421817</td>\n",
       "    </tr>\n",
       "    <tr>\n",
       "      <th>493362</th>\n",
       "      <td>2019-09-13</td>\n",
       "      <td>19</td>\n",
       "      <td>Robo (con violencia)</td>\n",
       "      <td>Villa Santa Rita</td>\n",
       "      <td>11.0</td>\n",
       "      <td>-34.611037</td>\n",
       "      <td>-58.483334</td>\n",
       "    </tr>\n",
       "    <tr>\n",
       "      <th>493363</th>\n",
       "      <td>2019-09-13</td>\n",
       "      <td>9</td>\n",
       "      <td>Robo (con violencia)</td>\n",
       "      <td>Balvanera</td>\n",
       "      <td>3.0</td>\n",
       "      <td>-34.610367</td>\n",
       "      <td>-58.408288</td>\n",
       "    </tr>\n",
       "  </tbody>\n",
       "</table>\n",
       "<p>493364 rows × 7 columns</p>\n",
       "</div>"
      ],
      "text/plain": [
       "            fecha franja_horaria            tipo_delito             barrio  \\\n",
       "0      2016-01-01             13   Robo (con violencia)  Parque Avellaneda   \n",
       "1      2016-01-01             22   Robo (con violencia)            Palermo   \n",
       "2      2016-01-01              1               Lesiones   Parque Patricios   \n",
       "3      2016-01-01             19  Hurto (sin violencia)  Parque Avellaneda   \n",
       "4      2016-01-01              4   Robo (con violencia)          Caballito   \n",
       "...           ...            ...                    ...                ...   \n",
       "493359 2019-09-13             21   Robo (con violencia)    Vélez Sársfield   \n",
       "493360 2019-09-13             20   Robo (con violencia)    Vélez Sársfield   \n",
       "493361 2019-09-13             18   Robo (con violencia)            Almagro   \n",
       "493362 2019-09-13             19   Robo (con violencia)   Villa Santa Rita   \n",
       "493363 2019-09-13              9   Robo (con violencia)          Balvanera   \n",
       "\n",
       "        comuna        lat       long  \n",
       "0          9.0 -34.648730 -58.468536  \n",
       "1         14.0 -34.576925 -58.407400  \n",
       "2          4.0 -34.645197 -58.401099  \n",
       "3          9.0 -34.655760 -58.478681  \n",
       "4          6.0 -34.624128 -58.436826  \n",
       "...        ...        ...        ...  \n",
       "493359    10.0 -34.631202 -58.500760  \n",
       "493360    10.0 -34.624261 -58.495508  \n",
       "493361     5.0 -34.611807 -58.421817  \n",
       "493362    11.0 -34.611037 -58.483334  \n",
       "493363     3.0 -34.610367 -58.408288  \n",
       "\n",
       "[493364 rows x 7 columns]"
      ]
     },
     "execution_count": 63,
     "metadata": {},
     "output_type": "execute_result"
    }
   ],
   "source": [
    "extract_load(links)"
   ]
  },
  {
   "cell_type": "code",
   "execution_count": 44,
   "metadata": {},
   "outputs": [],
   "source": []
  }
 ],
 "metadata": {
  "kernelspec": {
   "display_name": "Python 3",
   "language": "python",
   "name": "python3"
  },
  "language_info": {
   "codemirror_mode": {
    "name": "ipython",
    "version": 3
   },
   "file_extension": ".py",
   "mimetype": "text/x-python",
   "name": "python",
   "nbconvert_exporter": "python",
   "pygments_lexer": "ipython3",
   "version": "3.8.17"
  },
  "orig_nbformat": 4
 },
 "nbformat": 4,
 "nbformat_minor": 2
}
