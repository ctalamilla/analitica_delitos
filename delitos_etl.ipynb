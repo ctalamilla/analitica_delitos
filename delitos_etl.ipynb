{
 "cells": [
  {
   "cell_type": "code",
   "execution_count": 3,
   "metadata": {},
   "outputs": [],
   "source": [
    "link_2016 = \"https://cdn.buenosaires.gob.ar/datosabiertos/datasets/mapa-del-delito/delitos_2016.csv\"\n",
    "link_2017 = \"https://cdn.buenosaires.gob.ar/datosabiertos/datasets/mapa-del-delito/delitos_2017.csv\"\n",
    "link_2018 = \"https://cdn.buenosaires.gob.ar/datosabiertos/datasets/mapa-del-delito/delitos_2018.csv\"\n",
    "link_2019 = \"https://cdn.buenosaires.gob.ar/datosabiertos/datasets/ministerio-de-justicia-y-seguridad/delitos/delitos_2019.csv\"\n",
    "link_2020 = \"https://cdn.buenosaires.gob.ar/datosabiertos/datasets/mapa-del-delito/delitos_2020.csv\"\n",
    "link_2021 = \"https://cdn.buenosaires.gob.ar/datosabiertos/datasets/ministerio-de-justicia-y-seguridad/delitos/delitos_2021.csv\""
   ]
  },
  {
   "cell_type": "code",
   "execution_count": null,
   "metadata": {},
   "outputs": [],
   "source": []
  },
  {
   "cell_type": "code",
   "execution_count": 5,
   "metadata": {},
   "outputs": [],
   "source": [
    "import pandas as pd"
   ]
  },
  {
   "cell_type": "code",
   "execution_count": 15,
   "metadata": {},
   "outputs": [],
   "source": [
    "pd.read_csv(link_2021, sep=';').loc[:,['fecha', 'franja', 'tipo', 'barrio', 'comuna', 'latitud', 'longitud']].to_csv('./data/delitos_2021.csv')\n"
   ]
  },
  {
   "cell_type": "code",
   "execution_count": 20,
   "metadata": {},
   "outputs": [],
   "source": [
    "pd.read_csv(link_2020, sep=',', low_memory=False).loc[:,['fecha', 'franja', 'tipo', 'barrio', 'comuna', 'latitud', 'longitud']].to_csv('./data/delitos_2020.csv')"
   ]
  },
  {
   "cell_type": "code",
   "execution_count": 34,
   "metadata": {},
   "outputs": [
    {
     "data": {
      "text/plain": [
       "['https://cdn.buenosaires.gob.ar/datosabiertos/datasets/mapa-del-delito/delitos_2016.csv',\n",
       " 'https://cdn.buenosaires.gob.ar/datosabiertos/datasets/mapa-del-delito/delitos_2017.csv',\n",
       " 'https://cdn.buenosaires.gob.ar/datosabiertos/datasets/mapa-del-delito/delitos_2018.csv',\n",
       " 'https://cdn.buenosaires.gob.ar/datosabiertos/datasets/ministerio-de-justicia-y-seguridad/delitos/delitos_2019.csv',\n",
       " 'https://cdn.buenosaires.gob.ar/datosabiertos/datasets/mapa-del-delito/delitos_2020.csv',\n",
       " 'https://cdn.buenosaires.gob.ar/datosabiertos/datasets/ministerio-de-justicia-y-seguridad/delitos/delitos_2021.csv']"
      ]
     },
     "execution_count": 34,
     "metadata": {},
     "output_type": "execute_result"
    }
   ],
   "source": [
    "links =[link_2016, link_2017, link_2018,link_2019, link_2020, link_2021]\n",
    "links"
   ]
  },
  {
   "cell_type": "code",
   "execution_count": null,
   "metadata": {},
   "outputs": [],
   "source": [
    "def extract_load(links):\n",
    "    for link in links:\n",
    "        data = pd.read_csv(link, sep=',', low_memory=False).loc[:,['fecha', 'franja_horaria', 'tipo_delito', 'barrio', 'comuna', 'lat', 'long']].to_csv('./data/delitos_2019.csv')"
   ]
  },
  {
   "cell_type": "code",
   "execution_count": 25,
   "metadata": {},
   "outputs": [],
   "source": [
    "pd.read_csv(link_2019, sep=',', low_memory=False).loc[:,['fecha', 'franja_horaria', 'tipo_delito', 'barrio', 'comuna', 'lat', 'long']].to_csv('./data/delitos_2019.csv')"
   ]
  },
  {
   "cell_type": "code",
   "execution_count": null,
   "metadata": {},
   "outputs": [],
   "source": [
    "pd.read_csv(link_2019, sep=',', low_memory=False).loc[:,['fecha', 'franja_horaria', 'tipo_delito', 'barrio', 'comuna', 'lat', 'long']].to_csv('./data/delitos_2019.csv')"
   ]
  },
  {
   "cell_type": "code",
   "execution_count": 28,
   "metadata": {},
   "outputs": [],
   "source": [
    "pd.read_csv(link_2018, sep=',', low_memory=False).loc[:,['fecha', 'franja_horaria', 'tipo_delito', 'barrio', 'comuna', 'lat', 'long']].to_csv('./data/delitos_2018.csv')"
   ]
  },
  {
   "cell_type": "code",
   "execution_count": 31,
   "metadata": {},
   "outputs": [],
   "source": [
    "pd.read_csv(link_2017, sep=',', low_memory=False).loc[:,['fecha', 'franja_horaria', 'tipo_delito', 'barrio', 'comuna', 'lat', 'long']].to_csv('./data/delitos_2017.csv')"
   ]
  },
  {
   "cell_type": "code",
   "execution_count": 33,
   "metadata": {},
   "outputs": [],
   "source": [
    "pd.read_csv(link_2016, sep=',', low_memory=False).loc[:,['fecha', 'franja_horaria', 'tipo_delito', 'barrio', 'comuna', 'lat', 'long']].to_csv('./data/delitos_2016.csv')"
   ]
  }
 ],
 "metadata": {
  "kernelspec": {
   "display_name": "Python 3",
   "language": "python",
   "name": "python3"
  },
  "language_info": {
   "codemirror_mode": {
    "name": "ipython",
    "version": 3
   },
   "file_extension": ".py",
   "mimetype": "text/x-python",
   "name": "python",
   "nbconvert_exporter": "python",
   "pygments_lexer": "ipython3",
   "version": "3.8.17"
  },
  "orig_nbformat": 4
 },
 "nbformat": 4,
 "nbformat_minor": 2
}
